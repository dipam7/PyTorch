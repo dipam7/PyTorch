{
 "cells": [
  {
   "cell_type": "code",
   "execution_count": 1,
   "metadata": {
    "_cell_guid": "b1076dfc-b9ad-4769-8c92-a6c4dae69d19",
    "_uuid": "8f2839f25d086af736a60e9eeb907d3b93b6e0e5"
   },
   "outputs": [
    {
     "name": "stderr",
     "output_type": "stream",
     "text": [
      "0it [00:00, ?it/s]"
     ]
    },
    {
     "name": "stdout",
     "output_type": "stream",
     "text": [
      "Downloading http://fashion-mnist.s3-website.eu-central-1.amazonaws.com/train-images-idx3-ubyte.gz to /tmp/.pytorch/F_MNIST_data/FashionMNIST/raw/train-images-idx3-ubyte.gz\n"
     ]
    },
    {
     "name": "stderr",
     "output_type": "stream",
     "text": [
      "26427392it [00:02, 13167576.72it/s]                              \n"
     ]
    },
    {
     "name": "stdout",
     "output_type": "stream",
     "text": [
      "Extracting /tmp/.pytorch/F_MNIST_data/FashionMNIST/raw/train-images-idx3-ubyte.gz\n"
     ]
    },
    {
     "name": "stderr",
     "output_type": "stream",
     "text": [
      "0it [00:00, ?it/s]"
     ]
    },
    {
     "name": "stdout",
     "output_type": "stream",
     "text": [
      "Downloading http://fashion-mnist.s3-website.eu-central-1.amazonaws.com/train-labels-idx1-ubyte.gz to /tmp/.pytorch/F_MNIST_data/FashionMNIST/raw/train-labels-idx1-ubyte.gz\n"
     ]
    },
    {
     "name": "stderr",
     "output_type": "stream",
     "text": [
      "32768it [00:00, 98469.32it/s]            \n",
      "0it [00:00, ?it/s]"
     ]
    },
    {
     "name": "stdout",
     "output_type": "stream",
     "text": [
      "Extracting /tmp/.pytorch/F_MNIST_data/FashionMNIST/raw/train-labels-idx1-ubyte.gz\n",
      "Downloading http://fashion-mnist.s3-website.eu-central-1.amazonaws.com/t10k-images-idx3-ubyte.gz to /tmp/.pytorch/F_MNIST_data/FashionMNIST/raw/t10k-images-idx3-ubyte.gz\n"
     ]
    },
    {
     "name": "stderr",
     "output_type": "stream",
     "text": [
      "4423680it [00:01, 4082214.02it/s]                             \n",
      "0it [00:00, ?it/s]"
     ]
    },
    {
     "name": "stdout",
     "output_type": "stream",
     "text": [
      "Extracting /tmp/.pytorch/F_MNIST_data/FashionMNIST/raw/t10k-images-idx3-ubyte.gz\n",
      "Downloading http://fashion-mnist.s3-website.eu-central-1.amazonaws.com/t10k-labels-idx1-ubyte.gz to /tmp/.pytorch/F_MNIST_data/FashionMNIST/raw/t10k-labels-idx1-ubyte.gz\n"
     ]
    },
    {
     "name": "stderr",
     "output_type": "stream",
     "text": [
      "8192it [00:00, 34623.54it/s]            "
     ]
    },
    {
     "name": "stdout",
     "output_type": "stream",
     "text": [
      "Extracting /tmp/.pytorch/F_MNIST_data/FashionMNIST/raw/t10k-labels-idx1-ubyte.gz\n",
      "Processing...\n",
      "Done!\n"
     ]
    },
    {
     "name": "stderr",
     "output_type": "stream",
     "text": [
      "\n"
     ]
    }
   ],
   "source": [
    "import torch\n",
    "from torchvision import datasets, transforms\n",
    "from torch import nn, optim\n",
    "import torch.nn.functional as F\n",
    "\n",
    "# Define a transform to normalize the data\n",
    "transform = transforms.Compose([transforms.ToTensor(),\n",
    "                                transforms.Normalize((0.5,), (0.5,))])\n",
    "# Download and load the training data\n",
    "trainset = datasets.FashionMNIST('~/.pytorch/F_MNIST_data/', download=True, train=True, transform=transform)\n",
    "trainloader = torch.utils.data.DataLoader(trainset, batch_size=64, shuffle=True)\n",
    "\n",
    "# Download and load the test data\n",
    "testset = datasets.FashionMNIST('~/.pytorch/F_MNIST_data/', download=True, train=False, transform=transform)\n",
    "testloader = torch.utils.data.DataLoader(testset, batch_size=64, shuffle=True)"
   ]
  },
  {
   "cell_type": "code",
   "execution_count": 2,
   "metadata": {
    "_cell_guid": "79c7e3d0-c299-4dcb-8224-4455121ee9b0",
    "_uuid": "d629ff2d2480ee46fbb7e2d37f6b5fab8052498a"
   },
   "outputs": [],
   "source": [
    "class MyNetwork(nn.Module):\n",
    "    def __init__(self):\n",
    "        super().__init__()\n",
    "        \n",
    "        self.layer1 = nn.Linear(784, 256)\n",
    "        self.layer2 = nn.Linear(256, 128)\n",
    "        self.layer3 = nn.Linear(128, 64)\n",
    "        self.layer4 = nn.Linear(64, 10)\n",
    "        \n",
    "    def forward(self, x):\n",
    "        \n",
    "        x = x.view(x.shape[0], -1)\n",
    "        \n",
    "        x = F.relu(self.layer1(x))\n",
    "        x = F.relu(self.layer2(x))\n",
    "        x = F.relu(self.layer3(x))\n",
    "        \n",
    "        x = F.log_softmax(self.layer4(x), dim = 1)\n",
    "        return x\n",
    "        "
   ]
  },
  {
   "cell_type": "code",
   "execution_count": 3,
   "metadata": {},
   "outputs": [],
   "source": [
    "model = MyNetwork()"
   ]
  },
  {
   "cell_type": "code",
   "execution_count": 4,
   "metadata": {},
   "outputs": [
    {
     "data": {
      "text/plain": [
       "MyNetwork(\n",
       "  (layer1): Linear(in_features=784, out_features=256, bias=True)\n",
       "  (layer2): Linear(in_features=256, out_features=128, bias=True)\n",
       "  (layer3): Linear(in_features=128, out_features=64, bias=True)\n",
       "  (layer4): Linear(in_features=64, out_features=10, bias=True)\n",
       ")"
      ]
     },
     "execution_count": 4,
     "metadata": {},
     "output_type": "execute_result"
    }
   ],
   "source": [
    "model"
   ]
  },
  {
   "cell_type": "code",
   "execution_count": 5,
   "metadata": {},
   "outputs": [],
   "source": [
    "criterion = nn.NLLLoss()\n",
    "\n",
    "optimizer = optim.Adam(model.parameters(), lr = 0.003)"
   ]
  },
  {
   "cell_type": "code",
   "execution_count": 6,
   "metadata": {},
   "outputs": [],
   "source": [
    "images, labels = next(iter(trainloader))"
   ]
  },
  {
   "cell_type": "code",
   "execution_count": 7,
   "metadata": {},
   "outputs": [
    {
     "data": {
      "text/plain": [
       "torch.Size([64, 1, 28, 28])"
      ]
     },
     "execution_count": 7,
     "metadata": {},
     "output_type": "execute_result"
    }
   ],
   "source": [
    "images.shape"
   ]
  },
  {
   "cell_type": "code",
   "execution_count": 8,
   "metadata": {},
   "outputs": [],
   "source": [
    "outputs = model(images)"
   ]
  },
  {
   "cell_type": "code",
   "execution_count": 9,
   "metadata": {},
   "outputs": [],
   "source": [
    "ps = torch.exp(outputs)"
   ]
  },
  {
   "cell_type": "code",
   "execution_count": 10,
   "metadata": {},
   "outputs": [
    {
     "data": {
      "text/plain": [
       "torch.Size([64, 10])"
      ]
     },
     "execution_count": 10,
     "metadata": {},
     "output_type": "execute_result"
    }
   ],
   "source": [
    "ps.shape"
   ]
  },
  {
   "cell_type": "code",
   "execution_count": 11,
   "metadata": {},
   "outputs": [],
   "source": [
    "top_p, top_class = ps.topk(1, dim = 1)"
   ]
  },
  {
   "cell_type": "code",
   "execution_count": 12,
   "metadata": {},
   "outputs": [
    {
     "data": {
      "text/plain": [
       "tensor([[8],\n",
       "        [8],\n",
       "        [8],\n",
       "        [8],\n",
       "        [8],\n",
       "        [8],\n",
       "        [8],\n",
       "        [8],\n",
       "        [8],\n",
       "        [8]])"
      ]
     },
     "execution_count": 12,
     "metadata": {},
     "output_type": "execute_result"
    }
   ],
   "source": [
    "top_class[:10]"
   ]
  },
  {
   "cell_type": "code",
   "execution_count": 13,
   "metadata": {},
   "outputs": [],
   "source": [
    "equals = top_class == labels.view(*top_class.shape)"
   ]
  },
  {
   "cell_type": "code",
   "execution_count": 14,
   "metadata": {},
   "outputs": [
    {
     "data": {
      "text/plain": [
       "torch.Size([64, 1])"
      ]
     },
     "execution_count": 14,
     "metadata": {},
     "output_type": "execute_result"
    }
   ],
   "source": [
    "equals.shape"
   ]
  },
  {
   "cell_type": "code",
   "execution_count": 15,
   "metadata": {},
   "outputs": [
    {
     "data": {
      "text/plain": [
       "torch.Size([64])"
      ]
     },
     "execution_count": 15,
     "metadata": {},
     "output_type": "execute_result"
    }
   ],
   "source": [
    "labels.shape"
   ]
  },
  {
   "cell_type": "code",
   "execution_count": 16,
   "metadata": {},
   "outputs": [
    {
     "data": {
      "text/plain": [
       "torch.Size([64, 1])"
      ]
     },
     "execution_count": 16,
     "metadata": {},
     "output_type": "execute_result"
    }
   ],
   "source": [
    "top_class.shape"
   ]
  },
  {
   "cell_type": "code",
   "execution_count": 17,
   "metadata": {},
   "outputs": [
    {
     "data": {
      "text/plain": [
       "'torch.ByteTensor'"
      ]
     },
     "execution_count": 17,
     "metadata": {},
     "output_type": "execute_result"
    }
   ],
   "source": [
    "equals.type()"
   ]
  },
  {
   "cell_type": "code",
   "execution_count": 18,
   "metadata": {},
   "outputs": [
    {
     "name": "stdout",
     "output_type": "stream",
     "text": [
      "Accuracy: 12.5%\n"
     ]
    }
   ],
   "source": [
    "accuracy = torch.mean(equals.type(torch.FloatTensor))\n",
    "print(f'Accuracy: {accuracy.item()*100}%')"
   ]
  },
  {
   "cell_type": "code",
   "execution_count": 19,
   "metadata": {},
   "outputs": [
    {
     "name": "stdout",
     "output_type": "stream",
     "text": [
      "Epoch number :  1\n",
      "Training loss :  0.5157662986088664\n",
      "Test loss :  0.4240908077947653\n",
      "Test accuracy :  0.8449442675159236\n",
      "=======================================================\n",
      "Epoch number :  2\n",
      "Training loss :  0.3879256694079208\n",
      "Test loss :  0.4762214706961516\n",
      "Test accuracy :  0.8349920382165605\n",
      "=======================================================\n",
      "Epoch number :  3\n",
      "Training loss :  0.35365595449326137\n",
      "Test loss :  0.41629782209920274\n",
      "Test accuracy :  0.852906050955414\n",
      "=======================================================\n",
      "Epoch number :  4\n",
      "Training loss :  0.33171511337415244\n",
      "Test loss :  0.3770563591058087\n",
      "Test accuracy :  0.8641520700636943\n",
      "=======================================================\n",
      "Epoch number :  5\n",
      "Training loss :  0.3154579223489075\n",
      "Test loss :  0.3664586764232368\n",
      "Test accuracy :  0.8674363057324841\n",
      "=======================================================\n",
      "Epoch number :  6\n",
      "Training loss :  0.30048314091175604\n",
      "Test loss :  0.368930955601346\n",
      "Test accuracy :  0.8705214968152867\n",
      "=======================================================\n",
      "Epoch number :  7\n",
      "Training loss :  0.29023675954958267\n",
      "Test loss :  0.362804926314931\n",
      "Test accuracy :  0.8737062101910829\n",
      "=======================================================\n",
      "Epoch number :  8\n",
      "Training loss :  0.280522444982455\n",
      "Test loss :  0.35043381505711063\n",
      "Test accuracy :  0.8736066878980892\n",
      "=======================================================\n",
      "Epoch number :  9\n",
      "Training loss :  0.27436109540114273\n",
      "Test loss :  0.3579800684645677\n",
      "Test accuracy :  0.8748009554140127\n",
      "=======================================================\n",
      "Epoch number :  10\n",
      "Training loss :  0.26489126936459084\n",
      "Test loss :  0.36223759283875206\n",
      "Test accuracy :  0.8803742038216561\n",
      "=======================================================\n",
      "Epoch number :  11\n",
      "Training loss :  0.2560828725364544\n",
      "Test loss :  0.3616033904491716\n",
      "Test accuracy :  0.879578025477707\n",
      "=======================================================\n",
      "Epoch number :  12\n",
      "Training loss :  0.2526529491471965\n",
      "Test loss :  0.3885551902708734\n",
      "Test accuracy :  0.8761942675159236\n",
      "=======================================================\n",
      "Epoch number :  13\n",
      "Training loss :  0.24476662760715623\n",
      "Test loss :  0.3733165876311102\n",
      "Test accuracy :  0.8752985668789809\n",
      "=======================================================\n",
      "Epoch number :  14\n",
      "Training loss :  0.23974168095300827\n",
      "Test loss :  0.3820826316335399\n",
      "Test accuracy :  0.8805732484076433\n",
      "=======================================================\n",
      "Epoch number :  15\n",
      "Training loss :  0.23676417551950604\n",
      "Test loss :  0.4154927995838937\n",
      "Test accuracy :  0.8716162420382165\n",
      "=======================================================\n",
      "Epoch number :  16\n",
      "Training loss :  0.2330873751961219\n",
      "Test loss :  0.3707343096945696\n",
      "Test accuracy :  0.8811703821656051\n",
      "=======================================================\n",
      "Epoch number :  17\n",
      "Training loss :  0.22394166572658875\n",
      "Test loss :  0.3861487144307726\n",
      "Test accuracy :  0.881468949044586\n",
      "=======================================================\n",
      "Epoch number :  18\n",
      "Training loss :  0.21972946303962135\n",
      "Test loss :  0.39996766455613886\n",
      "Test accuracy :  0.8802746815286624\n",
      "=======================================================\n",
      "Epoch number :  19\n",
      "Training loss :  0.2213584412413556\n",
      "Test loss :  0.38385829353218626\n",
      "Test accuracy :  0.8827627388535032\n",
      "=======================================================\n",
      "Epoch number :  20\n",
      "Training loss :  0.21536660328634513\n",
      "Test loss :  0.38991001219886123\n",
      "Test accuracy :  0.877687101910828\n",
      "=======================================================\n"
     ]
    }
   ],
   "source": [
    "epochs = 20\n",
    "\n",
    "train_losses = []\n",
    "test_losses = []\n",
    "\n",
    "for e in range(epochs):\n",
    "    running_loss = 0\n",
    "    for images, labels in trainloader:\n",
    "        \n",
    "        outputs = model(images)\n",
    "        loss = criterion(outputs, labels)\n",
    "        \n",
    "        optimizer.zero_grad()\n",
    "        loss.backward()\n",
    "        optimizer.step()\n",
    "        \n",
    "        running_loss += loss.item()\n",
    "    else:\n",
    "        test_loss = 0\n",
    "        accuracy = 0\n",
    "        with torch.no_grad():\n",
    "            for images, labels in testloader:\n",
    "                outputs = model(images)\n",
    "                loss = criterion(outputs, labels)\n",
    "                test_loss += loss.item()\n",
    "                \n",
    "                ps = torch.exp(outputs)\n",
    "                top_p, top_class = ps.topk(1, dim = 1)\n",
    "                equals = top_class == labels.view(*top_class.shape)\n",
    "                accuracy += torch.mean(equals.type(torch.FloatTensor))\n",
    "        \n",
    "        train_losses.append(running_loss/len(trainloader))\n",
    "        test_losses.append(test_loss/len(testloader))\n",
    "        print(\"Epoch number : \", e + 1)\n",
    "        print(\"Training loss : \", running_loss / len(trainloader))\n",
    "        print(\"Test loss : \", test_loss / len(testloader))\n",
    "        print(\"Test accuracy : \", accuracy.item() / len(testloader))\n",
    "        print(\"=======================================================\")"
   ]
  },
  {
   "cell_type": "code",
   "execution_count": 20,
   "metadata": {},
   "outputs": [],
   "source": [
    "%matplotlib inline\n",
    "%config InlineBackend.figure_format = 'retina'\n",
    "\n",
    "import matplotlib.pyplot as plt"
   ]
  },
  {
   "cell_type": "code",
   "execution_count": 21,
   "metadata": {},
   "outputs": [
    {
     "data": {
      "text/plain": [
       "<matplotlib.legend.Legend at 0x7fef45efebe0>"
      ]
     },
     "execution_count": 21,
     "metadata": {},
     "output_type": "execute_result"
    },
    {
     "data": {
      "image/png": "[encoded data removed]",
      "text/plain": [
       "<Figure size 432x288 with 1 Axes>"
      ]
     },
     "metadata": {
      "image/png": {
       "height": 250,
       "width": 380
      }
     },
     "output_type": "display_data"
    }
   ],
   "source": [
    "plt.plot(train_losses, label='Training loss')\n",
    "plt.plot(test_losses, label='Validation loss')\n",
    "plt.legend(frameon=False)"
   ]
  },
  {
   "cell_type": "code",
   "execution_count": 22,
   "metadata": {},
   "outputs": [],
   "source": [
    "class MyNetwork(nn.Module):\n",
    "    def __init__(self):\n",
    "        super().__init__()\n",
    "        \n",
    "        self.layer1 = nn.Linear(784, 256)\n",
    "        self.layer2 = nn.Linear(256, 128)\n",
    "        self.layer3 = nn.Linear(128, 64)\n",
    "        self.layer4 = nn.Linear(64, 10)\n",
    "        \n",
    "        self.dropout = nn.Dropout(p=0.2)\n",
    "        \n",
    "    def forward(self, x):\n",
    "        \n",
    "        x = x.view(x.shape[0], -1)\n",
    "        \n",
    "        x = self.dropout(F.relu(self.layer1(x)))\n",
    "        x = self.dropout(F.relu(self.layer2(x)))\n",
    "        x = self.dropout(F.relu(self.layer3(x)))\n",
    "        \n",
    "        x = F.log_softmax(self.layer4(x), dim = 1)\n",
    "        return x\n",
    "        "
   ]
  },
  {
   "cell_type": "code",
   "execution_count": 23,
   "metadata": {},
   "outputs": [],
   "source": [
    "model = MyNetwork()\n",
    "criterion = nn.NLLLoss()\n",
    "optimizer = optim.Adam(model.parameters(), lr = 0.003)"
   ]
  },
  {
   "cell_type": "code",
   "execution_count": 24,
   "metadata": {},
   "outputs": [
    {
     "name": "stdout",
     "output_type": "stream",
     "text": [
      "Epoch number :  1\n",
      "Training loss :  0.6094824254576331\n",
      "Test loss :  0.49503403769177234\n",
      "Test accuracy :  0.8183718152866242\n",
      "=======================================================\n",
      "Epoch number :  2\n",
      "Training loss :  0.4864477809431202\n",
      "Test loss :  0.4579052856773328\n",
      "Test accuracy :  0.8401671974522293\n",
      "=======================================================\n",
      "Epoch number :  3\n",
      "Training loss :  0.45049822551291635\n",
      "Test loss :  0.42959168002863596\n",
      "Test accuracy :  0.8508160828025477\n",
      "=======================================================\n",
      "Epoch number :  4\n",
      "Training loss :  0.4313228099839265\n",
      "Test loss :  0.40158952801090897\n",
      "Test accuracy :  0.8553941082802548\n",
      "=======================================================\n",
      "Epoch number :  5\n",
      "Training loss :  0.417957306845483\n",
      "Test loss :  0.4013388432135248\n",
      "Test accuracy :  0.8584792993630573\n",
      "=======================================================\n",
      "Epoch number :  6\n",
      "Training loss :  0.4076050439877297\n",
      "Test loss :  0.39677948053855044\n",
      "Test accuracy :  0.8590764331210191\n",
      "=======================================================\n",
      "Epoch number :  7\n",
      "Training loss :  0.39937199251865274\n",
      "Test loss :  0.3965379031030995\n",
      "Test accuracy :  0.863156847133758\n",
      "=======================================================\n",
      "Epoch number :  8\n",
      "Training loss :  0.403642482960275\n",
      "Test loss :  0.3936091168860721\n",
      "Test accuracy :  0.8588773885350318\n",
      "=======================================================\n",
      "Epoch number :  9\n",
      "Training loss :  0.3988048785975747\n",
      "Test loss :  0.3852535624792621\n",
      "Test accuracy :  0.8591759554140127\n",
      "=======================================================\n",
      "Epoch number :  10\n",
      "Training loss :  0.38915305479820855\n",
      "Test loss :  0.39007641251679437\n",
      "Test accuracy :  0.8649482484076433\n",
      "=======================================================\n",
      "Epoch number :  11\n",
      "Training loss :  0.3828756734569952\n",
      "Test loss :  0.3818402708905518\n",
      "Test accuracy :  0.8668391719745223\n",
      "=======================================================\n",
      "Epoch number :  12\n",
      "Training loss :  0.37918532476115074\n",
      "Test loss :  0.40991548301687664\n",
      "Test accuracy :  0.8606687898089171\n",
      "=======================================================\n",
      "Epoch number :  13\n",
      "Training loss :  0.3716854538792359\n",
      "Test loss :  0.39075529651277385\n",
      "Test accuracy :  0.866640127388535\n",
      "=======================================================\n",
      "Epoch number :  14\n",
      "Training loss :  0.36389876675726507\n",
      "Test loss :  0.3801518603684796\n",
      "Test accuracy :  0.8656449044585988\n",
      "=======================================================\n",
      "Epoch number :  15\n",
      "Training loss :  0.36334524715918975\n",
      "Test loss :  0.39746808920316634\n",
      "Test accuracy :  0.8636544585987261\n",
      "=======================================================\n",
      "Epoch number :  16\n",
      "Training loss :  0.36611674141400913\n",
      "Test loss :  0.3639804127679509\n",
      "Test accuracy :  0.8705214968152867\n",
      "=======================================================\n",
      "Epoch number :  17\n",
      "Training loss :  0.36396969616540203\n",
      "Test loss :  0.380365406726576\n",
      "Test accuracy :  0.8679339171974523\n",
      "=======================================================\n",
      "Epoch number :  18\n",
      "Training loss :  0.36371882530703725\n",
      "Test loss :  0.3769664537564964\n",
      "Test accuracy :  0.8669386942675159\n",
      "=======================================================\n",
      "Epoch number :  19\n",
      "Training loss :  0.3642723630073228\n",
      "Test loss :  0.37457904869773584\n",
      "Test accuracy :  0.8670382165605095\n",
      "=======================================================\n",
      "Epoch number :  20\n",
      "Training loss :  0.35401051924395155\n",
      "Test loss :  0.411656736473369\n",
      "Test accuracy :  0.8651472929936306\n",
      "=======================================================\n"
     ]
    }
   ],
   "source": [
    "epochs = 20\n",
    "\n",
    "train_losses = []\n",
    "test_losses = []\n",
    "\n",
    "for e in range(epochs):\n",
    "    running_loss = 0\n",
    "    for images, labels in trainloader:\n",
    "        \n",
    "        outputs = model(images)\n",
    "        loss = criterion(outputs, labels)\n",
    "        \n",
    "        optimizer.zero_grad()\n",
    "        loss.backward()\n",
    "        optimizer.step()\n",
    "        \n",
    "        running_loss += loss.item()\n",
    "    else:\n",
    "        test_loss = 0\n",
    "        accuracy = 0\n",
    "        with torch.no_grad():\n",
    "            model.eval()\n",
    "            for images, labels in testloader:\n",
    "                outputs = model(images)\n",
    "                loss = criterion(outputs, labels)\n",
    "                test_loss += loss.item()\n",
    "                \n",
    "                ps = torch.exp(outputs)\n",
    "                top_p, top_class = ps.topk(1, dim = 1)\n",
    "                equals = top_class == labels.view(*top_class.shape)\n",
    "                accuracy += torch.mean(equals.type(torch.FloatTensor))\n",
    "        model.train()\n",
    "        \n",
    "        train_losses.append(running_loss/len(trainloader))\n",
    "        test_losses.append(test_loss/len(testloader))\n",
    "        print(\"Epoch number : \", e + 1)\n",
    "        print(\"Training loss : \", running_loss / len(trainloader))\n",
    "        print(\"Test loss : \", test_loss / len(testloader))\n",
    "        print(\"Test accuracy : \", accuracy.item() / len(testloader))\n",
    "        print(\"=======================================================\")"
   ]
  },
  {
   "cell_type": "code",
   "execution_count": 25,
   "metadata": {},
   "outputs": [
    {
     "data": {
      "text/plain": [
       "<matplotlib.legend.Legend at 0x7fef460713c8>"
      ]
     },
     "execution_count": 25,
     "metadata": {},
     "output_type": "execute_result"
    },
    {
     "data": {
      "image/png": "[encoded data removed]",
      "text/plain": [
       "<Figure size 432x288 with 1 Axes>"
      ]
     },
     "metadata": {
      "image/png": {
       "height": 250,
       "width": 380
      }
     },
     "output_type": "display_data"
    }
   ],
   "source": [
    "plt.plot(train_losses, label='Training loss')\n",
    "plt.plot(test_losses, label='Validation loss')\n",
    "plt.legend(frameon=False)"
   ]
  },
  {
   "cell_type": "code",
   "execution_count": 26,
   "metadata": {},
   "outputs": [
    {
     "name": "stdout",
     "output_type": "stream",
     "text": [
      "Our model: \n",
      "\n",
      " MyNetwork(\n",
      "  (layer1): Linear(in_features=784, out_features=256, bias=True)\n",
      "  (layer2): Linear(in_features=256, out_features=128, bias=True)\n",
      "  (layer3): Linear(in_features=128, out_features=64, bias=True)\n",
      "  (layer4): Linear(in_features=64, out_features=10, bias=True)\n",
      "  (dropout): Dropout(p=0.2)\n",
      ") \n",
      "\n",
      "The state dict keys: \n",
      "\n",
      " odict_keys(['layer1.weight', 'layer1.bias', 'layer2.weight', 'layer2.bias', 'layer3.weight', 'layer3.bias', 'layer4.weight', 'layer4.bias'])\n"
     ]
    }
   ],
   "source": [
    "print(\"Our model: \\n\\n\", model, '\\n')\n",
    "print(\"The state dict keys: \\n\\n\", model.state_dict().keys())"
   ]
  },
  {
   "cell_type": "code",
   "execution_count": 27,
   "metadata": {},
   "outputs": [],
   "source": [
    "torch.save(model.state_dict(), '/kaggle/working/checkpoint.pth')"
   ]
  },
  {
   "cell_type": "code",
   "execution_count": 28,
   "metadata": {},
   "outputs": [
    {
     "name": "stdout",
     "output_type": "stream",
     "text": [
      "odict_keys(['layer1.weight', 'layer1.bias', 'layer2.weight', 'layer2.bias', 'layer3.weight', 'layer3.bias', 'layer4.weight', 'layer4.bias'])\n"
     ]
    }
   ],
   "source": [
    "state_dict = torch.load('checkpoint.pth')\n",
    "print(state_dict.keys())"
   ]
  },
  {
   "cell_type": "code",
   "execution_count": 29,
   "metadata": {},
   "outputs": [],
   "source": [
    "model.load_state_dict(state_dict)"
   ]
  },
  {
   "cell_type": "code",
   "execution_count": 30,
   "metadata": {},
   "outputs": [],
   "source": [
    "# when we load models we need to make sure our architectures match hence we can save more information while saving our models\n",
    "# something like this for example\n",
    "\n",
    "# checkpoint = {'input_size': 784,\n",
    "#               'output_size': 10,\n",
    "#               'hidden_layers': [each.out_features for each in model.hidden_layers],\n",
    "#               'state_dict': model.state_dict()}\n",
    "\n",
    "# torch.save(checkpoint, 'checkpoint.pth')"
   ]
  }
 ],
 "metadata": {
  "kernelspec": {
   "display_name": "Python 3",
   "language": "python",
   "name": "python3"
  },
  "language_info": {
   "codemirror_mode": {
    "name": "ipython",
    "version": 3
   },
   "file_extension": ".py",
   "mimetype": "text/x-python",
   "name": "python",
   "nbconvert_exporter": "python",
   "pygments_lexer": "ipython3",
   "version": "3.6.4"
  }
 },
 "nbformat": 4,
 "nbformat_minor": 1
}
